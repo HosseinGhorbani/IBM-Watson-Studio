# Import required packages
import pandas as pd
import plotly.express as px
import dash
from dash import html
from dash import dcc
import plotly.graph_objects as go
from dash.dependencies import Input, Output

# Read the airline data into pandas dataframe
Spacex_data = pd.read_csv("spacex_launch_dash.csv")

# Create a dash application
app = dash.Dash(__name__)

# Task 1
min_payload = Spacex_data['Payload Mass (kg)'].min()
max_payload = Spacex_data['Payload Mass (kg)'].max()
app.layout = html.Div(children=[
    html.H1('SpaceX Launch Records Dashboard',
            style={'textAlign': 'center', 'color': '#503D36', 'font-size': 40}),
    html.Div(dcc.Dropdown(id='site-dropdown',
                          options=[
                              {'label': 'All Sites', 'value': 'All Sites'},
                              {'label': 'CCAFS LC-40', 'value': 'CCAFS LC-40'},
                              {'label': 'CCAFS SLC-40', 'value': 'CCAFS SLC-40'},
                              {'label': 'KSC LC-39A', 'value': 'KSC LC-39A'},
                              {'label': 'VAFB SLC-4E', 'value': 'VAFB SLC-4E'},
                          ],
                          value='All Sites',
                          placeholder="Select a launch site",
                          searchable=True,
                          style={'width': '600px'}
                          ), style={'display': 'flex'}),
    html.Br(),
    html.Div(dcc.RangeSlider(id='payload-slider',
                             min=0,
                             max=10000,
                             step=1000,
                             value=[min_payload, max_payload],
                             marks={
                                 0: '0 kg',
                                 2500: '2500 kg',
                                 5000: '5000 kg',
                                 7500: '7500 kg',
                                 10000: '10000 kg'
                             }), style={'width': '80%', 'margin': '0 auto'}),
    html.Br(),
    html.Div(dcc.Graph(id='success-pie-chart')),
    html.Br(),
    html.P('This pie chart shows the success rate of launches for the selected site.'),
    html.Div(dcc.Graph(id='success-payload-scatter-chart'))
])


# Task 2
@app.callback(Output(component_id='success-pie-chart', component_property='figure'),
              Output(component_id='success-payload-scatter-chart', component_property='figure'),
              Input(component_id='site-dropdown', component_property='value'),
              Input(component_id='payload-slider', component_property='value'))
def update_graph(entered_site, payload_range):
    if entered_site == 'All Sites':
        filtered_df = Spacex_data[(Spacex_data['Payload Mass (kg)'] >= payload_range[0]) & 
                                  (Spacex_data['Payload Mass (kg)'] <= payload_range[1])]
        pie_fig = px.pie(filtered_df, values='class', names='Launch Site', 
                         title='Total Success Launches by Site')
        scatter_fig = px.scatter(filtered_df, x='Payload Mass (kg)', y='class', 
                                 color='Booster Version Category', title='Payload vs. Outcome for All Sites')
    else:
        filtered_df = Spacex_data[(Spacex_data['Launch Site'] == entered_site) & 
                                  (Spacex_data['Payload Mass (kg)'] >= payload_range[0]) & 
                                  (Spacex_data['Payload Mass (kg)'] <= payload_range[1])]
        pie_fig = px.pie(filtered_df, values='class', names='Mission Outcome', 
                         title=f"Total Success Launches for site {entered_site}")
        scatter_fig = px.scatter(filtered_df, x='Payload Mass (kg)', y='class', 
                                 color='Booster Version Category', title=f'Payload vs. Outcome for {entered_site}')
    return pie_fig, scatter_fig


def get_pie_chart(entered_site, payload_range):
    if entered_site == 'ALL':
        filtered_df = Spacex_data[(Spacex_data['Payload Mass (kg)'] >= payload_range[0])
                                  & (Spacex_data['Payload Mass (kg)'] <= payload_range[1])]
        fig1 = px.pie(filtered_df, values='class', names='Launch Site',
                     title='Total Success Launches by Site for Selected Payload Range')
    else:
        filtered_df = Spacex_data[(Spacex_data['Payload Mass (kg)'] >= payload_range[0])
                                  & (Spacex_data['Payload Mass (kg)'] <= payload_range[1])
                                  & (Spacex_data['Launch Site'] == entered_site)]
        values = filtered_df['class'].value_counts().values.tolist()
        labels = ['Failure', 'Success']
        fig1 = px.pie(filtered_df, values=values, names=labels,
                     title=f"Total Success Launches for {entered_site} for Selected Payload Range")
    return fig1

def update_graph(entered_site, payload_range):
    if entered_site == 'ALL':
        filtered_df = Spacex_data[(Spacex_data['Payload Mass (kg)'] >= payload_range[0])
                                  & (Spacex_data['Payload Mass (kg)'] <= payload_range[1])]
        fig1 = px.pie(filtered_df, values='class', names='Launch Site',
                     title='Total Success Launches by Site for Selected Payload Range')
    else:
        filtered_df = Spacex_data[(Spacex_data['Payload Mass (kg)'] >= payload_range[0])
                                  & (Spacex_data['Payload Mass (kg)'] <= payload_range[1])
                                  & (Spacex_data['Launch Site'] == entered_site)]
        values = filtered_df['class'].value_counts().values.tolist()
        labels = ['Failure', 'Success']
        fig = px.pie(filtered_df, values=values, names=labels,
                     title=f"Total Success Launches for {entered_site} for Selected Payload Range")
    return fig1

def update_payload_scatter_chart(selected_site, payload_range):
    if selected_site == 'All Sites':
        filtered_df = Spacex_data[(Spacex_data['Payload Mass (kg)'] >= payload_range[0]) & (Spacex_data['Payload Mass (kg)'] <= payload_range[1])]
        fig = px.scatter(filtered_df, x='Payload Mass (kg)', y='class', color='Booster Version Category', title='Payload Mass vs. Outcome for All Sites')
    else:
        filtered_df = Spacex_data[(Spacex_data['Launch Site'] == selected_site) &
        (Spacex_data['Payload Mass (kg)'] >= payload_range[0]) &
        (Spacex_data['Payload Mass (kg)'] <= payload_range[1])]
        fig = px.scatter(filtered_df, x='Payload Mass (kg)', y='class', color='Booster Version Category',
        title=f'Payload Mass vs. Outcome for {selected_site}')
    return fig

# Run the application
if __name__ == '__main__':
    app.run_server()
